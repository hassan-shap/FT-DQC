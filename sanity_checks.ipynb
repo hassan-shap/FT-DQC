{
 "cells": [
  {
   "cell_type": "code",
   "execution_count": 1,
   "metadata": {},
   "outputs": [],
   "source": [
    "import numpy as np\n",
    "import random\n",
    "import matplotlib.pyplot as plt\n",
    "import time\n",
    "import pymatching\n",
    "import json\n",
    "\n"
   ]
  },
  {
   "cell_type": "code",
   "execution_count": 9,
   "metadata": {},
   "outputs": [
    {
     "name": "stdout",
     "output_type": "stream",
     "text": [
      "[1 0 0 0]\n",
      "[0 1 0 0]\n",
      "[0 0 0 1]\n"
     ]
    }
   ],
   "source": [
    "s_mat = [[1,1,0,0],[0,1,1,0],[0,0,0,1]]\n",
    "weights = [0.4]*4\n",
    "matching_x = pymatching.Matching(s_mat,spacelike_weights=weights)\n",
    "\n",
    "syndrome_x = [1,0,0]\n",
    "recovery_x = matching_x.decode(syndrome_x)\n",
    "print(recovery_x)\n",
    "\n",
    "syndrome_x = [1,1,0]\n",
    "recovery_x = matching_x.decode(syndrome_x)\n",
    "print(recovery_x)\n",
    "\n",
    "syndrome_x = [0,0,1]\n",
    "recovery_x = matching_x.decode(syndrome_x)\n",
    "print(recovery_x)"
   ]
  }
 ],
 "metadata": {
  "kernelspec": {
   "display_name": "qswitch",
   "language": "python",
   "name": "python3"
  },
  "language_info": {
   "codemirror_mode": {
    "name": "ipython",
    "version": 3
   },
   "file_extension": ".py",
   "mimetype": "text/x-python",
   "name": "python",
   "nbconvert_exporter": "python",
   "pygments_lexer": "ipython3",
   "version": "3.10.13"
  },
  "orig_nbformat": 4
 },
 "nbformat": 4,
 "nbformat_minor": 2
}
